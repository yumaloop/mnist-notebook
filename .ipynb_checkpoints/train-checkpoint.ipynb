{
 "cells": [
  {
   "cell_type": "markdown",
   "metadata": {},
   "source": [
    "# Keras/TensorflowでMNISTデータセットの画像分類"
   ]
  },
  {
   "cell_type": "markdown",
   "metadata": {},
   "source": [
    "### 0. ライブラリのインポート"
   ]
  },
  {
   "cell_type": "code",
   "execution_count": 1,
   "metadata": {},
   "outputs": [],
   "source": [
    "import os\n",
    "import pathlib\n",
    "\n",
    "import numpy as np\n",
    "import pandas as pd \n",
    "import tensorflow as tf\n",
    "\n",
    "import matplotlib\n",
    "import matplotlib.pyplot as plt\n",
    "%matplotlib inline"
   ]
  },
  {
   "cell_type": "code",
   "execution_count": 2,
   "metadata": {},
   "outputs": [
    {
     "name": "stdout",
     "output_type": "stream",
     "text": [
      "numpy : 1.16.1\n",
      "pandas : 0.24.2\n",
      "tensorflow : 1.13.1\n",
      "matplotlib : 3.0.2\n"
     ]
    }
   ],
   "source": [
    "print(\"numpy :\", np.__version__)\n",
    "print(\"pandas :\", pd.__version__)\n",
    "print(\"tensorflow :\", tf.__version__)\n",
    "print(\"matplotlib :\", matplotlib.__version__)"
   ]
  },
  {
   "cell_type": "markdown",
   "metadata": {},
   "source": [
    "### 1. 実行環境についての設定"
   ]
  },
  {
   "cell_type": "markdown",
   "metadata": {},
   "source": [
    "モデルの学習曲線(後述)を描画できるように,CSVファイルを作成しましょう．"
   ]
  },
  {
   "cell_type": "code",
   "execution_count": 3,
   "metadata": {},
   "outputs": [],
   "source": [
    "CSV_FILE_PATH = \"trainlog.csv\"\n",
    "if not os.path.exists(CSV_FILE_PATH): \n",
    "    pathlib.Path(CSV_FILE_PATH).touch()"
   ]
  },
  {
   "cell_type": "markdown",
   "metadata": {},
   "source": [
    "### 2. データセットの読み込み"
   ]
  },
  {
   "cell_type": "markdown",
   "metadata": {},
   "source": [
    "Tensorflowから実行環境(このファイル)へMNIST Datasetを読み込みましょう．\n",
    "\n",
    "---\n",
    "\n",
    "MNIST Dataset:\n",
    "- trainデータ\n",
    "  - X_train: 手書き数字の白黒画像 60,000枚 -  ${\\left\\{ {\\bf x}_i \\in \\mathbb{R}^{28 \\times 28} \\right\\}}_{i=1 \\sim 60000}$\n",
    "  - y_train: 手書き数字のラベル 60,000個 - ${\\left\\{ y_i \\in [0,1,\\dots,9] \\right\\}}_{i=1 \\sim 60000}$\n",
    "- testデータ\n",
    "  - X_test: 手書き数字の白黒画像 10,000枚 -  ${\\left\\{ {\\bf x}_i \\in \\mathbb{R}^{28 \\times 28} \\right\\}}_{i=1 \\sim 10000}$\n",
    "  - y_test: 手書き数字のラベル 10,000個 - ${\\left\\{ y_i \\in [0,1,\\dots,9] \\right\\}}_{i=1 \\sim 10000}$"
   ]
  },
  {
   "cell_type": "code",
   "execution_count": 4,
   "metadata": {},
   "outputs": [],
   "source": [
    "# Load MNIST dataset from tensorflow\n",
    "mnist = tf.keras.datasets.mnist\n",
    "(X_train, y_train),(X_test, y_test) = mnist.load_data()\n",
    "del mnist"
   ]
  },
  {
   "cell_type": "code",
   "execution_count": 5,
   "metadata": {},
   "outputs": [
    {
     "name": "stdout",
     "output_type": "stream",
     "text": [
      "X_train :  (60000, 28, 28)\n",
      "y_train :  (60000,)\n",
      "X_test :  (10000, 28, 28)\n",
      "y_test :  (10000,)\n"
     ]
    }
   ],
   "source": [
    "print(\"X_train : \", X_train.shape)\n",
    "print(\"y_train : \", y_train.shape)\n",
    "print(\"X_test : \", X_test.shape)\n",
    "print(\"y_test : \", y_test.shape)"
   ]
  },
  {
   "cell_type": "markdown",
   "metadata": {},
   "source": [
    "**MNIST Datasetのサンプル**"
   ]
  },
  {
   "cell_type": "markdown",
   "metadata": {},
   "source": [
    "X(白黒画像)とy(ラベル)を見てみましょう．"
   ]
  },
  {
   "cell_type": "code",
   "execution_count": 6,
   "metadata": {},
   "outputs": [
    {
     "name": "stdout",
     "output_type": "stream",
     "text": [
      "y_train (i=1):  0\n",
      "X_train (i=1): \n"
     ]
    },
    {
     "data": {
      "image/png": "[encoded data removed]",
      "text/plain": [
       "<Figure size 432x288 with 1 Axes>"
      ]
     },
     "metadata": {
      "needs_background": "light"
     },
     "output_type": "display_data"
    },
    {
     "name": "stdout",
     "output_type": "stream",
     "text": [
      "y_train (i=10):  3\n",
      "X_train (i=10): \n"
     ]
    },
    {
     "data": {
      "image/png": "[encoded data removed]",
      "text/plain": [
       "<Figure size 432x288 with 1 Axes>"
      ]
     },
     "metadata": {
      "needs_background": "light"
     },
     "output_type": "display_data"
    },
    {
     "name": "stdout",
     "output_type": "stream",
     "text": [
      "y_train (i=100):  5\n",
      "X_train (i=100): \n"
     ]
    },
    {
     "data": {
      "image/png": "[encoded data removed]",
      "text/plain": [
       "<Figure size 432x288 with 1 Axes>"
      ]
     },
     "metadata": {
      "needs_background": "light"
     },
     "output_type": "display_data"
    }
   ],
   "source": [
    " for i in [1,10,100]:\n",
    "    print(\"y_train\", \"(i=\"+str(i)+\"): \", y_train[i])\n",
    "    print(\"X_train\", \"(i=\"+str(i)+\"): \")    \n",
    "    plt.imshow(X_train[i], cmap='gray')\n",
    "    plt.show()"
   ]
  },
  {
   "cell_type": "markdown",
   "metadata": {},
   "source": [
    "### 3. 画像データの正規化"
   ]
  },
  {
   "cell_type": "markdown",
   "metadata": {},
   "source": [
    "一般に，「(扱う)データの値を，何らかの基準に基づいて整える」処理を正規化(Normalization, Scalijng)といいます．代表的な正規化手法としては以下2つが挙げられます．\n",
    "\n",
    "1. min-max normalization\n",
    "   - 最小値が0, 最大値が1になるように変換する\n",
    "   - x_new = (x - x_min) / (x_max - x_min)\n",
    "2. z-score normalization\n",
    "   - 平均が0, 標準偏差が1になるよう変換する\n",
    "   - x_new = (x - x_mean) / x_std"
   ]
  },
  {
   "cell_type": "markdown",
   "metadata": {},
   "source": [
    "MNIST Datasetに含まれる画像データでは，各画素の値が「0以上255以下」の8bit整数で表現されています．今回は，これにmin-max normalizationを適用することで，値の範囲を「0~1」に限定させます．"
   ]
  },
  {
   "cell_type": "code",
   "execution_count": 7,
   "metadata": {},
   "outputs": [
    {
     "name": "stdout",
     "output_type": "stream",
     "text": [
      "X_train min 0\n",
      "X_train max 255\n"
     ]
    }
   ],
   "source": [
    "print(\"X_train min\", X_train.min())\n",
    "print(\"X_train max\", X_train.max())"
   ]
  },
  {
   "cell_type": "code",
   "execution_count": 8,
   "metadata": {},
   "outputs": [],
   "source": [
    "# Min-Max Normalization\n",
    "X_train, X_test = X_train/255.0, X_test/255.0"
   ]
  },
  {
   "cell_type": "code",
   "execution_count": 9,
   "metadata": {},
   "outputs": [
    {
     "name": "stdout",
     "output_type": "stream",
     "text": [
      "X_train min 0.0\n",
      "X_train max 1.0\n"
     ]
    }
   ],
   "source": [
    "print(\"X_train min\", X_train.min())\n",
    "print(\"X_train max\", X_train.max())"
   ]
  },
  {
   "cell_type": "markdown",
   "metadata": {},
   "source": [
    "### 4. モデルの作成"
   ]
  },
  {
   "cell_type": "code",
   "execution_count": 10,
   "metadata": {},
   "outputs": [
    {
     "name": "stdout",
     "output_type": "stream",
     "text": [
      "WARNING:tensorflow:From /usr/local/lib/python3.7/site-packages/tensorflow/python/ops/resource_variable_ops.py:435: colocate_with (from tensorflow.python.framework.ops) is deprecated and will be removed in a future version.\n",
      "Instructions for updating:\n",
      "Colocations handled automatically by placer.\n"
     ]
    }
   ],
   "source": [
    "# モデル\n",
    "model = tf.keras.models.Sequential([\n",
    "    # (None, 28, 28) -> (None, 784)\n",
    "    tf.keras.layers.Flatten(input_shape=(28, 28), name='input'),\n",
    "    \n",
    "    # Layer1: Linear mapping: (None, 784) -> (None, 512)\n",
    "    tf.keras.layers.Dense(512, name='fc_1'),\n",
    "    # Activation function: ReLU\n",
    "    tf.keras.layers.Activation(tf.nn.relu, name='relu_1'),\n",
    "    \n",
    "    # Layer2: Linear mapping: (None, 512) -> (None, 256)\n",
    "    tf.keras.layers.Dense(256, name='fc_2'),\n",
    "    # Activation function: ReLU\n",
    "    tf.keras.layers.Activation(tf.nn.relu, name='relu_2'),\n",
    "    \n",
    "    # Layer3: Linear mapping: (None, 256) -> (None, 256)\n",
    "    tf.keras.layers.Dense(256, name='fc_3'),\n",
    "    # Activation function: ReLU\n",
    "    tf.keras.layers.Activation(tf.nn.relu, name='relu_3'),\n",
    "    \n",
    "    # Layer4: Linear mapping: (None, 256) -> (None, 10)\n",
    "    tf.keras.layers.Dense(10, name='dense_3'),\n",
    "    # Activation function: Softmax\n",
    "    tf.keras.layers.Activation(tf.nn.softmax, name='softmax')\n",
    "])"
   ]
  },
  {
   "cell_type": "code",
   "execution_count": 11,
   "metadata": {},
   "outputs": [
    {
     "name": "stdout",
     "output_type": "stream",
     "text": [
      "_________________________________________________________________\n",
      "Layer (type)                 Output Shape              Param #   \n",
      "=================================================================\n",
      "input (Flatten)              (None, 784)               0         \n",
      "_________________________________________________________________\n",
      "fc_1 (Dense)                 (None, 512)               401920    \n",
      "_________________________________________________________________\n",
      "relu_1 (Activation)          (None, 512)               0         \n",
      "_________________________________________________________________\n",
      "fc_2 (Dense)                 (None, 256)               131328    \n",
      "_________________________________________________________________\n",
      "relu_2 (Activation)          (None, 256)               0         \n",
      "_________________________________________________________________\n",
      "fc_3 (Dense)                 (None, 256)               65792     \n",
      "_________________________________________________________________\n",
      "relu_3 (Activation)          (None, 256)               0         \n",
      "_________________________________________________________________\n",
      "dense_3 (Dense)              (None, 10)                2570      \n",
      "_________________________________________________________________\n",
      "softmax (Activation)         (None, 10)                0         \n",
      "=================================================================\n",
      "Total params: 601,610\n",
      "Trainable params: 601,610\n",
      "Non-trainable params: 0\n",
      "_________________________________________________________________\n"
     ]
    }
   ],
   "source": [
    "# View model architecture\n",
    "model.summary()"
   ]
  },
  {
   "cell_type": "code",
   "execution_count": 12,
   "metadata": {},
   "outputs": [],
   "source": [
    "# Compiling\n",
    "# Set model & training information into machine memory (CPU or GPU)\n",
    "model.compile(optimizer='adam',\n",
    "              loss='sparse_categorical_crossentropy',\n",
    "              metrics=['accuracy'])"
   ]
  },
  {
   "cell_type": "code",
   "execution_count": 13,
   "metadata": {},
   "outputs": [],
   "source": [
    "# Set callback functions which are called during model training\n",
    "callbacks = []\n",
    "callbacks.append(tf.keras.callbacks.CSVLogger(CSV_FILE_PATH))"
   ]
  },
  {
   "cell_type": "markdown",
   "metadata": {},
   "source": [
    "### 5. モデルの学習"
   ]
  },
  {
   "cell_type": "markdown",
   "metadata": {},
   "source": [
    "モデルにtrainデータを与えて，学習(training)させましょう．\n",
    "\n",
    "- train データ (`X_train`, `y_train`): \n",
    "   - モデル(`model`)の学習(training)に用いる．\n",
    "- test データ (`X_test`, `y_test`): \n",
    "   - モデル(`model`)の性能検証(validation)に用いる．\n",
    "\n",
    "> ```python\n",
    "> # Train model\n",
    "> history = model.fit(...)\n",
    "> ```\n",
    "\n",
    "なお，ニューラルネットワーク$f_{\\theta}: X \\mapsto Y$において，「推論」「学習」とは以下の計算処理を指します．\n",
    "\n",
    "- 推論(inference)とは \n",
    "   - 順伝播(input x → output y)によって，モデルの出力値$y$を計算すること\n",
    "   - $(X,\\theta)$は固定値，$y$に着目\n",
    "- 学習(training)とは\n",
    "   - 逆伝播(output y → input x)によって，モデルのパラメータ$\\theta$を更新すること\n",
    "   - $(X,y)$は固定値，$\\theta$に着目"
   ]
  },
  {
   "cell_type": "code",
   "execution_count": 14,
   "metadata": {},
   "outputs": [
    {
     "name": "stdout",
     "output_type": "stream",
     "text": [
      "Train on 60000 samples, validate on 10000 samples\n",
      "Epoch 1/30\n",
      "60000/60000 [==============================] - 9s 144us/sample - loss: 0.2194 - acc: 0.9344 - val_loss: 0.0950 - val_acc: 0.9695\n",
      "Epoch 2/30\n",
      "60000/60000 [==============================] - 7s 124us/sample - loss: 0.0826 - acc: 0.9749 - val_loss: 0.0940 - val_acc: 0.9715\n",
      "Epoch 3/30\n",
      "60000/60000 [==============================] - 7s 118us/sample - loss: 0.0561 - acc: 0.9821 - val_loss: 0.0742 - val_acc: 0.9762\n",
      "Epoch 4/30\n",
      "60000/60000 [==============================] - 6s 99us/sample - loss: 0.0403 - acc: 0.9872 - val_loss: 0.0875 - val_acc: 0.9739\n",
      "Epoch 5/30\n",
      "60000/60000 [==============================] - 6s 100us/sample - loss: 0.0321 - acc: 0.9901 - val_loss: 0.0760 - val_acc: 0.9794\n",
      "Epoch 6/30\n",
      "60000/60000 [==============================] - 7s 122us/sample - loss: 0.0282 - acc: 0.9907 - val_loss: 0.0832 - val_acc: 0.9771\n",
      "Epoch 7/30\n",
      "60000/60000 [==============================] - 9s 154us/sample - loss: 0.0230 - acc: 0.9926 - val_loss: 0.0743 - val_acc: 0.9795\n",
      "Epoch 8/30\n",
      "60000/60000 [==============================] - 7s 123us/sample - loss: 0.0204 - acc: 0.9934 - val_loss: 0.0845 - val_acc: 0.9788\n",
      "Epoch 9/30\n",
      "60000/60000 [==============================] - 7s 111us/sample - loss: 0.0197 - acc: 0.9934 - val_loss: 0.0706 - val_acc: 0.9822\n",
      "Epoch 10/30\n",
      "60000/60000 [==============================] - 7s 121us/sample - loss: 0.0169 - acc: 0.9945 - val_loss: 0.1077 - val_acc: 0.9748\n",
      "Epoch 11/30\n",
      "60000/60000 [==============================] - 6s 107us/sample - loss: 0.0150 - acc: 0.9949 - val_loss: 0.1065 - val_acc: 0.9785\n",
      "Epoch 12/30\n",
      "60000/60000 [==============================] - 7s 112us/sample - loss: 0.0132 - acc: 0.9958 - val_loss: 0.0956 - val_acc: 0.9786\n",
      "Epoch 13/30\n",
      "60000/60000 [==============================] - 7s 118us/sample - loss: 0.0137 - acc: 0.9958 - val_loss: 0.0875 - val_acc: 0.9815\n",
      "Epoch 14/30\n",
      "60000/60000 [==============================] - 7s 116us/sample - loss: 0.0121 - acc: 0.9958 - val_loss: 0.0910 - val_acc: 0.9821\n",
      "Epoch 15/30\n",
      "60000/60000 [==============================] - 6s 99us/sample - loss: 0.0105 - acc: 0.9966 - val_loss: 0.0857 - val_acc: 0.9820\n",
      "Epoch 16/30\n",
      "60000/60000 [==============================] - 6s 105us/sample - loss: 0.0105 - acc: 0.9966 - val_loss: 0.0841 - val_acc: 0.9817\n",
      "Epoch 17/30\n",
      "60000/60000 [==============================] - 7s 124us/sample - loss: 0.0096 - acc: 0.9970 - val_loss: 0.0878 - val_acc: 0.9825\n",
      "Epoch 18/30\n",
      "60000/60000 [==============================] - 6s 96us/sample - loss: 0.0127 - acc: 0.9964 - val_loss: 0.0881 - val_acc: 0.9820\n",
      "Epoch 19/30\n",
      "60000/60000 [==============================] - 7s 120us/sample - loss: 0.0075 - acc: 0.9978 - val_loss: 0.0905 - val_acc: 0.9819\n",
      "Epoch 20/30\n",
      "60000/60000 [==============================] - 6s 95us/sample - loss: 0.0075 - acc: 0.9981 - val_loss: 0.1095 - val_acc: 0.9796\n",
      "Epoch 21/30\n",
      "60000/60000 [==============================] - 6s 103us/sample - loss: 0.0111 - acc: 0.9966 - val_loss: 0.0895 - val_acc: 0.9835\n",
      "Epoch 22/30\n",
      "60000/60000 [==============================] - 6s 95us/sample - loss: 0.0093 - acc: 0.9972 - val_loss: 0.1011 - val_acc: 0.9789\n",
      "Epoch 23/30\n",
      "60000/60000 [==============================] - 7s 111us/sample - loss: 0.0091 - acc: 0.9971 - val_loss: 0.0842 - val_acc: 0.9821\n",
      "Epoch 24/30\n",
      "60000/60000 [==============================] - 7s 110us/sample - loss: 0.0069 - acc: 0.9980 - val_loss: 0.0925 - val_acc: 0.9831\n",
      "Epoch 25/30\n",
      "60000/60000 [==============================] - 7s 118us/sample - loss: 0.0063 - acc: 0.9982 - val_loss: 0.0893 - val_acc: 0.9830\n",
      "Epoch 26/30\n",
      "60000/60000 [==============================] - 7s 113us/sample - loss: 0.0071 - acc: 0.9980 - val_loss: 0.1003 - val_acc: 0.9805\n",
      "Epoch 27/30\n",
      "60000/60000 [==============================] - 7s 120us/sample - loss: 0.0077 - acc: 0.9976 - val_loss: 0.1120 - val_acc: 0.9809\n",
      "Epoch 28/30\n",
      "60000/60000 [==============================] - 10s 162us/sample - loss: 0.0080 - acc: 0.9977 - val_loss: 0.0893 - val_acc: 0.9837\n",
      "Epoch 29/30\n",
      "60000/60000 [==============================] - 8s 129us/sample - loss: 0.0045 - acc: 0.9989 - val_loss: 0.0751 - val_acc: 0.9858\n",
      "Epoch 30/30\n",
      "60000/60000 [==============================] - 7s 113us/sample - loss: 0.0020 - acc: 0.9995 - val_loss: 0.1063 - val_acc: 0.9820\n"
     ]
    }
   ],
   "source": [
    "# Train model\n",
    "history = model.fit(X_train, y_train, \n",
    "                    batch_size=100, \n",
    "                    epochs=30,\n",
    "                    verbose=1, \n",
    "                    validation_data=(X_test, y_test),\n",
    "                    callbacks=callbacks)"
   ]
  },
  {
   "cell_type": "markdown",
   "metadata": {},
   "source": [
    "### 6. 学習済みモデルの評価"
   ]
  },
  {
   "cell_type": "markdown",
   "metadata": {},
   "source": [
    "学習済みモデル(`model`)のtestデータ(`X_test`,`y_test`)に対するの正答率(accuracy)と損失関数の値(loss)を確認しましょう．"
   ]
  },
  {
   "cell_type": "code",
   "execution_count": 15,
   "metadata": {},
   "outputs": [
    {
     "name": "stdout",
     "output_type": "stream",
     "text": [
      "60000/60000 [==============================] - 4s 63us/sample - loss: 0.0111 - acc: 0.9969\n",
      "loss(train): 0.01111\n",
      "accuracy(train): 0.9969\n",
      "\n",
      "10000/10000 [==============================] - 1s 74us/sample - loss: 0.1063 - acc: 0.9820\n",
      "loss(test): 0.1063\n",
      "accuracy(test): 0.982\n"
     ]
    }
   ],
   "source": [
    "# Model evaluation\n",
    "train_loss, train_acc = model.evaluate(X_train, y_train, verbose=1)\n",
    "print(\"loss(train): {:.4}\".format(train_loss))\n",
    "print(\"accuracy(train): {:.4}\".format(train_acc))\n",
    "\n",
    "print()\n",
    "\n",
    "test_loss, test_acc = model.evaluate(X_test, y_test, verbose=1)\n",
    "print(\"loss(test): {:.4}\".format(test_loss))\n",
    "print(\"accuracy(test): {:.4}\".format(test_acc))"
   ]
  },
  {
   "cell_type": "markdown",
   "metadata": {},
   "source": [
    "用意しておいたCSVファイルを元に，学習曲線(モデルに対する評価指標の経過を表す)を描画してみましょう．"
   ]
  },
  {
   "cell_type": "code",
   "execution_count": 16,
   "metadata": {},
   "outputs": [
    {
     "data": {
      "text/html": [
       "<div>\n",
       "<style scoped>\n",
       "    .dataframe tbody tr th:only-of-type {\n",
       "        vertical-align: middle;\n",
       "    }\n",
       "\n",
       "    .dataframe tbody tr th {\n",
       "        vertical-align: top;\n",
       "    }\n",
       "\n",
       "    .dataframe thead th {\n",
       "        text-align: right;\n",
       "    }\n",
       "</style>\n",
       "<table border=\"1\" class=\"dataframe\">\n",
       "  <thead>\n",
       "    <tr style=\"text-align: right;\">\n",
       "      <th></th>\n",
       "      <th>epoch</th>\n",
       "      <th>acc</th>\n",
       "      <th>loss</th>\n",
       "      <th>val_acc</th>\n",
       "      <th>val_loss</th>\n",
       "    </tr>\n",
       "  </thead>\n",
       "  <tbody>\n",
       "    <tr>\n",
       "      <th>0</th>\n",
       "      <td>0</td>\n",
       "      <td>0.934417</td>\n",
       "      <td>0.219395</td>\n",
       "      <td>0.9695</td>\n",
       "      <td>0.094973</td>\n",
       "    </tr>\n",
       "    <tr>\n",
       "      <th>1</th>\n",
       "      <td>1</td>\n",
       "      <td>0.974883</td>\n",
       "      <td>0.082613</td>\n",
       "      <td>0.9715</td>\n",
       "      <td>0.094039</td>\n",
       "    </tr>\n",
       "    <tr>\n",
       "      <th>2</th>\n",
       "      <td>2</td>\n",
       "      <td>0.982117</td>\n",
       "      <td>0.056111</td>\n",
       "      <td>0.9762</td>\n",
       "      <td>0.074172</td>\n",
       "    </tr>\n",
       "    <tr>\n",
       "      <th>3</th>\n",
       "      <td>3</td>\n",
       "      <td>0.987233</td>\n",
       "      <td>0.040281</td>\n",
       "      <td>0.9739</td>\n",
       "      <td>0.087518</td>\n",
       "    </tr>\n",
       "    <tr>\n",
       "      <th>4</th>\n",
       "      <td>4</td>\n",
       "      <td>0.990117</td>\n",
       "      <td>0.032113</td>\n",
       "      <td>0.9794</td>\n",
       "      <td>0.076013</td>\n",
       "    </tr>\n",
       "  </tbody>\n",
       "</table>\n",
       "</div>"
      ],
      "text/plain": [
       "   epoch       acc      loss  val_acc  val_loss\n",
       "0      0  0.934417  0.219395   0.9695  0.094973\n",
       "1      1  0.974883  0.082613   0.9715  0.094039\n",
       "2      2  0.982117  0.056111   0.9762  0.074172\n",
       "3      3  0.987233  0.040281   0.9739  0.087518\n",
       "4      4  0.990117  0.032113   0.9794  0.076013"
      ]
     },
     "execution_count": 16,
     "metadata": {},
     "output_type": "execute_result"
    }
   ],
   "source": [
    "df = pd.read_csv(CSV_FILE_PATH)\n",
    "df.head()"
   ]
  },
  {
   "cell_type": "code",
   "execution_count": 17,
   "metadata": {},
   "outputs": [],
   "source": [
    "epochs = df[\"epoch\"].values\n",
    "train_acc = df[\"acc\"].values\n",
    "train_loss = df[\"loss\"].values\n",
    "test_acc = df[\"val_acc\"].values\n",
    "test_loss = df[\"val_loss\"].values"
   ]
  },
  {
   "cell_type": "markdown",
   "metadata": {},
   "source": [
    "**画像分類の正答率**"
   ]
  },
  {
   "cell_type": "code",
   "execution_count": 18,
   "metadata": {},
   "outputs": [
    {
     "data": {
      "image/png": "[encoded data removed]",
      "text/plain": [
       "<Figure size 432x288 with 1 Axes>"
      ]
     },
     "metadata": {
      "needs_background": "light"
     },
     "output_type": "display_data"
    }
   ],
   "source": [
    "plt.plot(epochs, train_loss, label=\"train data\")\n",
    "plt.plot(epochs, test_loss, label=\"test data\")\n",
    "plt.xlabel(\"epochs\")\n",
    "plt.ylabel(\"loss\\n(categorical crossentropy)\")\n",
    "plt.legend(loc=\"upper right\")\n",
    "plt.show()"
   ]
  },
  {
   "cell_type": "markdown",
   "metadata": {},
   "source": [
    "**損失関数の値**"
   ]
  },
  {
   "cell_type": "code",
   "execution_count": 19,
   "metadata": {},
   "outputs": [
    {
     "data": {
      "image/png": "[encoded data removed]",
      "text/plain": [
       "<Figure size 432x288 with 1 Axes>"
      ]
     },
     "metadata": {
      "needs_background": "light"
     },
     "output_type": "display_data"
    }
   ],
   "source": [
    "plt.plot(epochs, train_acc, label=\"train data\")\n",
    "plt.plot(epochs, test_acc, label=\"test data\")\n",
    "plt.xlabel(\"epochs\")\n",
    "plt.ylabel(\"accuracy\")\n",
    "plt.legend(loc=\"lower right\")\n",
    "plt.show()"
   ]
  },
  {
   "cell_type": "markdown",
   "metadata": {},
   "source": [
    "### 7. 学習済みモデルによる推論計算"
   ]
  },
  {
   "cell_type": "markdown",
   "metadata": {},
   "source": [
    "学習済みモデルを用いて，testデータに対する推論計算を行い，分類結果をみてみましょう．"
   ]
  },
  {
   "cell_type": "code",
   "execution_count": 20,
   "metadata": {},
   "outputs": [
    {
     "name": "stdout",
     "output_type": "stream",
     "text": [
      "y_test_pred (i=0):  7\n",
      "y_test_true (i=0):  7\n",
      "X_test (i=0): \n"
     ]
    },
    {
     "data": {
      "image/png": "[encoded data removed]",
      "text/plain": [
       "<Figure size 432x288 with 1 Axes>"
      ]
     },
     "metadata": {
      "needs_background": "light"
     },
     "output_type": "display_data"
    },
    {
     "name": "stdout",
     "output_type": "stream",
     "text": [
      "y_test_pred (i=1):  2\n",
      "y_test_true (i=1):  2\n",
      "X_test (i=1): \n"
     ]
    },
    {
     "data": {
      "image/png": "[encoded data removed]",
      "text/plain": [
       "<Figure size 432x288 with 1 Axes>"
      ]
     },
     "metadata": {
      "needs_background": "light"
     },
     "output_type": "display_data"
    },
    {
     "name": "stdout",
     "output_type": "stream",
     "text": [
      "y_test_pred (i=2):  1\n",
      "y_test_true (i=2):  1\n",
      "X_test (i=2): \n"
     ]
    },
    {
     "data": {
      "image/png": "[encoded data removed]",
      "text/plain": [
       "<Figure size 432x288 with 1 Axes>"
      ]
     },
     "metadata": {
      "needs_background": "light"
     },
     "output_type": "display_data"
    }
   ],
   "source": [
    " for i in [0,1,2]:\n",
    "    y_true = y_test[i]\n",
    "    y_pred = model.predict_classes(X_test[i].reshape(1,28,28))[0]\n",
    "    print(\"y_test_pred\", \"(i=\"+str(i)+\"): \", y_pred)\n",
    "    print(\"y_test_true\", \"(i=\"+str(i)+\"): \", y_true)\n",
    "    print(\"X_test\", \"(i=\"+str(i)+\"): \")    \n",
    "    plt.imshow(X_test[i], cmap='gray')\n",
    "    plt.show()"
   ]
  },
  {
   "cell_type": "code",
   "execution_count": 21,
   "metadata": {},
   "outputs": [
    {
     "name": "stderr",
     "output_type": "stream",
     "text": [
      "/usr/local/lib/python3.7/site-packages/matplotlib/figure.py:445: UserWarning: Matplotlib is currently using module://ipykernel.pylab.backend_inline, which is a non-GUI backend, so cannot show the figure.\n",
      "  % get_backend())\n"
     ]
    },
    {
     "data": {
      "image/png": "[encoded data removed]",
      "text/plain": [
       "<Figure size 864x576 with 20 Axes>"
      ]
     },
     "metadata": {
      "needs_background": "light"
     },
     "output_type": "display_data"
    }
   ],
   "source": [
    "fig = plt.figure(figsize=(12, 8))\n",
    "\n",
    "ROW = 4\n",
    "COLUMN = 5\n",
    "\n",
    "for i in range(ROW * COLUMN):\n",
    "    y_true = y_test[i]\n",
    "    y_pred = model.predict_classes(X_test[i].reshape(1,28,28))[0]\n",
    "    \n",
    "    if y_true == y_pred:\n",
    "        result = \"True\" # Correct answer from the model\n",
    "    else:\n",
    "        result = \"False\" # Incorrect answer from the model\n",
    "    \n",
    "    plt.subplot(ROW, COLUMN, i+1)\n",
    "    plt.imshow(X_test[i], cmap='gray')\n",
    "    plt.title(\"No.{} - {}\\ny_true:{}, y_pred:{}\".format(i, result, y_true, y_pred))\n",
    "    plt.axis(\"off\")\n",
    "\n",
    "fig.tight_layout()\n",
    "fig.show()"
   ]
  },
  {
   "cell_type": "markdown",
   "metadata": {},
   "source": [
    "### 8. 学習済みモデルの保存"
   ]
  },
  {
   "cell_type": "markdown",
   "metadata": {},
   "source": [
    "Kerasでは，全てのニューラルネットワークモデルが`keras.models.Model()`クラスのインスタンスとなっています．学習済みモデル`model`に対して，\n",
    "`model.save()`を実行することで「モデルの保存」が完了します．\n",
    "\n",
    "> ```python\n",
    "> # save model as keras instance\n",
    "> ins_path = 'trained_model_v0.h5'\n",
    "> model.save(ins_path)\n",
    "> ```"
   ]
  },
  {
   "cell_type": "code",
   "execution_count": null,
   "metadata": {},
   "outputs": [],
   "source": []
  }
 ],
 "metadata": {
  "kernelspec": {
   "display_name": "Python 3",
   "language": "python",
   "name": "python3"
  },
  "language_info": {
   "codemirror_mode": {
    "name": "ipython",
    "version": 3
   },
   "file_extension": ".py",
   "mimetype": "text/x-python",
   "name": "python",
   "nbconvert_exporter": "python",
   "pygments_lexer": "ipython3",
   "version": "3.7.4"
  }
 },
 "nbformat": 4,
 "nbformat_minor": 2
}
